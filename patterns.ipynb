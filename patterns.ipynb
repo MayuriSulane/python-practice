{
 "cells": [
  {
   "cell_type": "code",
   "execution_count": 4,
   "metadata": {},
   "outputs": [
    {
     "name": "stdout",
     "output_type": "stream",
     "text": [
      "['dog', 'ball', 'cat', 'zebra', 'apple']\n"
     ]
    }
   ],
   "source": [
    "words=['zebra','apple','ball','cat','dog']\n",
    "sort=['d','b','c']\n",
    "res=[]\n",
    "\n",
    "for i in sort:\n",
    "    for j in words:\n",
    "        if j.startswith(i):\n",
    "            res.append(j)\n",
    "for i in words:\n",
    "    if i not in res:\n",
    "        res.append(i)\n",
    "print(res)\n"
   ]
  },
  {
   "cell_type": "code",
   "execution_count": 2,
   "metadata": {},
   "outputs": [
    {
     "name": "stdout",
     "output_type": "stream",
     "text": [
      "A   \n",
      "B B   \n",
      "C C C   \n",
      "D D D D   \n",
      "E E E E E   \n"
     ]
    }
   ],
   "source": [
    "\n",
    "\n",
    "def alphapat(n):\n",
    "    num = 65\n",
    "    for i in range(1, n+1):\n",
    "        ch = chr(num)\n",
    "        print((ch+' ')*i, end=\" \")\n",
    "        num = num + 1\n",
    "        print(' ')\n",
    "n = 5\n",
    "alphapat(n)\n"
   ]
  },
  {
   "cell_type": "code",
   "execution_count": 3,
   "metadata": {},
   "outputs": [
    {
     "name": "stdout",
     "output_type": "stream",
     "text": [
      "A \n",
      "B C \n",
      "D E F \n",
      "G H I J \n",
      "K L M N O \n"
     ]
    }
   ],
   "source": [
    "\n",
    "\n",
    "\n",
    "def contalpha(n):\n",
    "    num = 65\n",
    "    for i in range(0, n):\n",
    "        for j in range(0, i+1):\n",
    "            ch = chr(num)\n",
    "            print(ch, end=\" \")\n",
    "            num = num + 1\n",
    "        print()\n",
    "n = 5\n",
    "contalpha(n)\n"
   ]
  },
  {
   "cell_type": "code",
   "execution_count": 6,
   "metadata": {},
   "outputs": [
    {
     "name": "stdout",
     "output_type": "stream",
     "text": [
      "1  \n",
      "2 3  \n",
      "4 5 6  \n",
      "7 8 9 10  \n",
      "11 12 13 14 15  \n"
     ]
    }
   ],
   "source": [
    "n=5\n",
    "c=1\n",
    "for i in range(1,n+1):\n",
    "    for j in range(1,i+1):\n",
    "        print(c,end=\" \")\n",
    "        c=c+1\n",
    "    print(' ')"
   ]
  },
  {
   "cell_type": "code",
   "execution_count": 16,
   "metadata": {},
   "outputs": [
    {
     "name": "stdout",
     "output_type": "stream",
     "text": [
      "1 \n",
      "1 2 \n",
      "1 2 3 \n",
      "1 2 3 4 \n",
      "1 2 3 4 5 \n"
     ]
    }
   ],
   "source": [
    "n=5\n",
    "\n",
    "for i in range(1,n+1):\n",
    "    c=1\n",
    "    for j in range(1,i+1):\n",
    "        print(c,end=\" \")\n",
    "        c=c+1\n",
    "    print()"
   ]
  },
  {
   "cell_type": "code",
   "execution_count": null,
   "metadata": {},
   "outputs": [
    {
     "name": "stdout",
     "output_type": "stream",
     "text": [
      "    * \n",
      "   * * \n",
      "  * * * \n",
      " * * * * \n",
      "* * * * * \n"
     ]
    }
   ],
   "source": [
    "def asteric(n):\n",
    "    for i in range(1,n+1):\n",
    "        print(\" \"*(n-i)+ i * \"* \")\n",
    "     \n",
    "\n",
    "num=5\n",
    "asteric(num)"
   ]
  },
  {
   "cell_type": "code",
   "execution_count": 1,
   "metadata": {},
   "outputs": [
    {
     "name": "stdout",
     "output_type": "stream",
     "text": [
      "* \n",
      "* * \n",
      "* * * \n",
      "* * * * \n",
      "* * * * * \n"
     ]
    }
   ],
   "source": [
    "p=int(input(\"enter number:\"))\n",
    "for i in range(1,p+1):\n",
    "    print(\"* \" * i )"
   ]
  }
 ],
 "metadata": {
  "kernelspec": {
   "display_name": "Python 3",
   "language": "python",
   "name": "python3"
  },
  "language_info": {
   "codemirror_mode": {
    "name": "ipython",
    "version": 3
   },
   "file_extension": ".py",
   "mimetype": "text/x-python",
   "name": "python",
   "nbconvert_exporter": "python",
   "pygments_lexer": "ipython3",
   "version": "3.10.13"
  }
 },
 "nbformat": 4,
 "nbformat_minor": 2
}
