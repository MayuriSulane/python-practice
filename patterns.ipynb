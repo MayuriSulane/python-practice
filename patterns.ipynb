{
 "cells": [
  {
   "cell_type": "code",
   "execution_count": 4,
   "metadata": {},
   "outputs": [
    {
     "name": "stdout",
     "output_type": "stream",
     "text": [
      "['dog', 'ball', 'cat', 'zebra', 'apple']\n"
     ]
    }
   ],
   "source": [
    "words=['zebra','apple','ball','cat','dog']\n",
    "sort=['d','b','c']\n",
    "res=[]\n",
    "\n",
    "for i in sort:\n",
    "    for j in words:\n",
    "        if j.startswith(i):\n",
    "            res.append(j)\n",
    "for i in words:\n",
    "    if i not in res:\n",
    "        res.append(i)\n",
    "print(res)\n"
   ]
  },
  {
   "cell_type": "code",
   "execution_count": 2,
   "metadata": {},
   "outputs": [
    {
     "name": "stdout",
     "output_type": "stream",
     "text": [
      "A   \n",
      "B B   \n",
      "C C C   \n",
      "D D D D   \n",
      "E E E E E   \n"
     ]
    }
   ],
   "source": [
    "\n",
    "\n",
    "def alphapat(n):\n",
    "    num = 65\n",
    "    for i in range(1, n+1):\n",
    "        ch = chr(num)\n",
    "        print((ch+' ')*i, end=\" \")\n",
    "        num = num + 1\n",
    "        print(' ')\n",
    "n = 5\n",
    "alphapat(n)\n"
   ]
  },
  {
   "cell_type": "code",
   "execution_count": 15,
   "metadata": {},
   "outputs": [
    {
     "data": {
      "text/plain": [
       "['0: \\x00',\n",
       " '1: \\x01',\n",
       " '2: \\x02',\n",
       " '3: \\x03',\n",
       " '4: \\x04',\n",
       " '5: \\x05',\n",
       " '6: \\x06',\n",
       " '7: \\x07',\n",
       " '8: \\x08',\n",
       " '9: \\t',\n",
       " '10: \\n',\n",
       " '11: \\x0b',\n",
       " '12: \\x0c',\n",
       " '13: \\r',\n",
       " '14: \\x0e',\n",
       " '15: \\x0f',\n",
       " '16: \\x10',\n",
       " '17: \\x11',\n",
       " '18: \\x12',\n",
       " '19: \\x13',\n",
       " '20: \\x14',\n",
       " '21: \\x15',\n",
       " '22: \\x16',\n",
       " '23: \\x17',\n",
       " '24: \\x18',\n",
       " '25: \\x19',\n",
       " '26: \\x1a',\n",
       " '27: \\x1b',\n",
       " '28: \\x1c',\n",
       " '29: \\x1d',\n",
       " '30: \\x1e',\n",
       " '31: \\x1f',\n",
       " '32:  ',\n",
       " '33: !',\n",
       " '34: \"',\n",
       " '35: #',\n",
       " '36: $',\n",
       " '37: %',\n",
       " '38: &',\n",
       " \"39: '\",\n",
       " '40: (',\n",
       " '41: )',\n",
       " '42: *',\n",
       " '43: +',\n",
       " '44: ,',\n",
       " '45: -',\n",
       " '46: .',\n",
       " '47: /',\n",
       " '48: 0',\n",
       " '49: 1',\n",
       " '50: 2',\n",
       " '51: 3',\n",
       " '52: 4',\n",
       " '53: 5',\n",
       " '54: 6',\n",
       " '55: 7',\n",
       " '56: 8',\n",
       " '57: 9',\n",
       " '58: :',\n",
       " '59: ;',\n",
       " '60: <',\n",
       " '61: =',\n",
       " '62: >',\n",
       " '63: ?',\n",
       " '64: @',\n",
       " '65: A',\n",
       " '66: B',\n",
       " '67: C',\n",
       " '68: D',\n",
       " '69: E',\n",
       " '70: F',\n",
       " '71: G',\n",
       " '72: H',\n",
       " '73: I',\n",
       " '74: J',\n",
       " '75: K',\n",
       " '76: L',\n",
       " '77: M',\n",
       " '78: N',\n",
       " '79: O',\n",
       " '80: P',\n",
       " '81: Q',\n",
       " '82: R',\n",
       " '83: S',\n",
       " '84: T',\n",
       " '85: U',\n",
       " '86: V',\n",
       " '87: W',\n",
       " '88: X',\n",
       " '89: Y',\n",
       " '90: Z',\n",
       " '91: [',\n",
       " '92: \\\\',\n",
       " '93: ]',\n",
       " '94: ^',\n",
       " '95: _',\n",
       " '96: `',\n",
       " '97: a',\n",
       " '98: b',\n",
       " '99: c',\n",
       " '100: d',\n",
       " '101: e',\n",
       " '102: f',\n",
       " '103: g',\n",
       " '104: h',\n",
       " '105: i',\n",
       " '106: j',\n",
       " '107: k',\n",
       " '108: l',\n",
       " '109: m',\n",
       " '110: n',\n",
       " '111: o',\n",
       " '112: p',\n",
       " '113: q',\n",
       " '114: r',\n",
       " '115: s',\n",
       " '116: t',\n",
       " '117: u',\n",
       " '118: v',\n",
       " '119: w',\n",
       " '120: x',\n",
       " '121: y',\n",
       " '122: z',\n",
       " '123: {',\n",
       " '124: |',\n",
       " '125: }',\n",
       " '126: ~',\n",
       " '127: \\x7f',\n",
       " '128: \\x80',\n",
       " '129: \\x81',\n",
       " '130: \\x82',\n",
       " '131: \\x83',\n",
       " '132: \\x84',\n",
       " '133: \\x85',\n",
       " '134: \\x86',\n",
       " '135: \\x87',\n",
       " '136: \\x88',\n",
       " '137: \\x89',\n",
       " '138: \\x8a',\n",
       " '139: \\x8b',\n",
       " '140: \\x8c',\n",
       " '141: \\x8d',\n",
       " '142: \\x8e',\n",
       " '143: \\x8f',\n",
       " '144: \\x90',\n",
       " '145: \\x91',\n",
       " '146: \\x92',\n",
       " '147: \\x93',\n",
       " '148: \\x94',\n",
       " '149: \\x95',\n",
       " '150: \\x96',\n",
       " '151: \\x97',\n",
       " '152: \\x98',\n",
       " '153: \\x99',\n",
       " '154: \\x9a',\n",
       " '155: \\x9b',\n",
       " '156: \\x9c',\n",
       " '157: \\x9d',\n",
       " '158: \\x9e',\n",
       " '159: \\x9f',\n",
       " '160: \\xa0',\n",
       " '161: ¡',\n",
       " '162: ¢',\n",
       " '163: £',\n",
       " '164: ¤',\n",
       " '165: ¥',\n",
       " '166: ¦',\n",
       " '167: §',\n",
       " '168: ¨',\n",
       " '169: ©',\n",
       " '170: ª',\n",
       " '171: «',\n",
       " '172: ¬',\n",
       " '173: \\xad',\n",
       " '174: ®',\n",
       " '175: ¯',\n",
       " '176: °',\n",
       " '177: ±',\n",
       " '178: ²',\n",
       " '179: ³',\n",
       " '180: ´',\n",
       " '181: µ',\n",
       " '182: ¶',\n",
       " '183: ·',\n",
       " '184: ¸',\n",
       " '185: ¹',\n",
       " '186: º',\n",
       " '187: »',\n",
       " '188: ¼',\n",
       " '189: ½',\n",
       " '190: ¾',\n",
       " '191: ¿',\n",
       " '192: À',\n",
       " '193: Á',\n",
       " '194: Â',\n",
       " '195: Ã',\n",
       " '196: Ä',\n",
       " '197: Å',\n",
       " '198: Æ',\n",
       " '199: Ç']"
      ]
     },
     "execution_count": 15,
     "metadata": {},
     "output_type": "execute_result"
    }
   ],
   "source": [
    "[str(i)+\": \"+chr(i) for i in range(0,200)]"
   ]
  },
  {
   "cell_type": "code",
   "execution_count": 3,
   "metadata": {},
   "outputs": [
    {
     "name": "stdout",
     "output_type": "stream",
     "text": [
      "A \n",
      "B C \n",
      "D E F \n",
      "G H I J \n",
      "K L M N O \n"
     ]
    }
   ],
   "source": [
    "\n",
    "\n",
    "\n",
    "def contalpha(n):\n",
    "    num = 65\n",
    "    for i in range(0, n):\n",
    "        for j in range(0, i+1):\n",
    "            ch = chr(num)\n",
    "            print(ch, end=\" \")\n",
    "            num = num + 1\n",
    "        print()\n",
    "n = 5\n",
    "contalpha(n)\n"
   ]
  },
  {
   "cell_type": "code",
   "execution_count": 6,
   "metadata": {},
   "outputs": [
    {
     "name": "stdout",
     "output_type": "stream",
     "text": [
      "1  \n",
      "2 3  \n",
      "4 5 6  \n",
      "7 8 9 10  \n",
      "11 12 13 14 15  \n"
     ]
    }
   ],
   "source": [
    "n=5\n",
    "c=1\n",
    "for i in range(1,n+1):\n",
    "    for j in range(1,i+1):\n",
    "        print(c,end=\" \")\n",
    "        c=c+1\n",
    "    print(' ')"
   ]
  },
  {
   "cell_type": "code",
   "execution_count": 16,
   "metadata": {},
   "outputs": [
    {
     "name": "stdout",
     "output_type": "stream",
     "text": [
      "1 \n",
      "1 2 \n",
      "1 2 3 \n",
      "1 2 3 4 \n",
      "1 2 3 4 5 \n"
     ]
    }
   ],
   "source": [
    "n=5\n",
    "\n",
    "for i in range(1,n+1):\n",
    "    c=1\n",
    "    for j in range(1,i+1):\n",
    "        print(c,end=\" \")\n",
    "        c=c+1\n",
    "    print()"
   ]
  },
  {
   "cell_type": "code",
   "execution_count": null,
   "metadata": {},
   "outputs": [
    {
     "name": "stdout",
     "output_type": "stream",
     "text": [
      "    * \n",
      "   * * \n",
      "  * * * \n",
      " * * * * \n",
      "* * * * * \n"
     ]
    }
   ],
   "source": [
    "def asteric(n):\n",
    "    for i in range(1,n+1):\n",
    "        print(\" \"*(n-i)+ i * \"* \")\n",
    "     \n",
    "\n",
    "num=5\n",
    "asteric(num)"
   ]
  },
  {
   "cell_type": "code",
   "execution_count": 1,
   "metadata": {},
   "outputs": [
    {
     "name": "stdout",
     "output_type": "stream",
     "text": [
      "* \n",
      "* * \n",
      "* * * \n",
      "* * * * \n",
      "* * * * * \n"
     ]
    }
   ],
   "source": [
    "p=int(input(\"enter number:\"))\n",
    "for i in range(1,p+1):\n",
    "    print(\"* \" * i )"
   ]
  }
 ],
 "metadata": {
  "kernelspec": {
   "display_name": "Python 3",
   "language": "python",
   "name": "python3"
  },
  "language_info": {
   "codemirror_mode": {
    "name": "ipython",
    "version": 3
   },
   "file_extension": ".py",
   "mimetype": "text/x-python",
   "name": "python",
   "nbconvert_exporter": "python",
   "pygments_lexer": "ipython3",
   "version": "3.10.13"
  }
 },
 "nbformat": 4,
 "nbformat_minor": 2
}
